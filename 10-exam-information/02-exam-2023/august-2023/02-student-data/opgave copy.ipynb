{
 "cells": [
  {
   "attachments": {},
   "cell_type": "markdown",
   "metadata": {},
   "source": [
    "The file “studentInfo.csv” contains information about students' enrollment and deregistration dates. If a student is not yet deregistered, the value of deregistration date is None. The dates are in the following format dd/mm/yyyy."
   ]
  },
  {
   "attachments": {},
   "cell_type": "markdown",
   "metadata": {},
   "source": [
    "Read the file into a panda dataframe."
   ]
  },
  {
   "cell_type": "code",
   "execution_count": 7,
   "metadata": {},
   "outputs": [],
   "source": [
    "import pandas as pd\n",
    "\n",
    "filepath = \"studentInfo.csv\"\n",
    "data = pd.read_csv(filepath, sep=';')"
   ]
  },
  {
   "attachments": {},
   "cell_type": "markdown",
   "metadata": {},
   "source": [
    "Show the first rows to verify that this worked well."
   ]
  },
  {
   "cell_type": "code",
   "execution_count": 8,
   "metadata": {},
   "outputs": [
    {
     "data": {
      "text/html": [
       "<div>\n",
       "<style scoped>\n",
       "    .dataframe tbody tr th:only-of-type {\n",
       "        vertical-align: middle;\n",
       "    }\n",
       "\n",
       "    .dataframe tbody tr th {\n",
       "        vertical-align: top;\n",
       "    }\n",
       "\n",
       "    .dataframe thead th {\n",
       "        text-align: right;\n",
       "    }\n",
       "</style>\n",
       "<table border=\"1\" class=\"dataframe\">\n",
       "  <thead>\n",
       "    <tr style=\"text-align: right;\">\n",
       "      <th></th>\n",
       "      <th>studentnummer</th>\n",
       "      <th>inschrijfdatum</th>\n",
       "      <th>uitschrijfdatum</th>\n",
       "    </tr>\n",
       "  </thead>\n",
       "  <tbody>\n",
       "    <tr>\n",
       "      <th>0</th>\n",
       "      <td>r012345</td>\n",
       "      <td>11/09/2023</td>\n",
       "      <td>NaN</td>\n",
       "    </tr>\n",
       "    <tr>\n",
       "      <th>1</th>\n",
       "      <td>r124589</td>\n",
       "      <td>10/05/2023</td>\n",
       "      <td>01/12/2022</td>\n",
       "    </tr>\n",
       "    <tr>\n",
       "      <th>2</th>\n",
       "      <td>r457899</td>\n",
       "      <td>10/10/2023</td>\n",
       "      <td>24/31/2024</td>\n",
       "    </tr>\n",
       "    <tr>\n",
       "      <th>3</th>\n",
       "      <td>r012345</td>\n",
       "      <td>11/09/2023</td>\n",
       "      <td>22/12/2023</td>\n",
       "    </tr>\n",
       "    <tr>\n",
       "      <th>4</th>\n",
       "      <td>r024589</td>\n",
       "      <td>10/18/2023</td>\n",
       "      <td>100/12/2023</td>\n",
       "    </tr>\n",
       "  </tbody>\n",
       "</table>\n",
       "</div>"
      ],
      "text/plain": [
       "  studentnummer inschrijfdatum uitschrijfdatum\n",
       "0       r012345     11/09/2023             NaN\n",
       "1       r124589     10/05/2023      01/12/2022\n",
       "2       r457899     10/10/2023      24/31/2024\n",
       "3       r012345     11/09/2023      22/12/2023\n",
       "4       r024589     10/18/2023     100/12/2023"
      ]
     },
     "execution_count": 8,
     "metadata": {},
     "output_type": "execute_result"
    }
   ],
   "source": [
    "data.head()"
   ]
  },
  {
   "attachments": {},
   "cell_type": "markdown",
   "metadata": {},
   "source": [
    "Delete all rows with a non-valid date in the “deregistration date” column (also None is obviously a non-valid date). \n",
    "Show the first rows again to check if this was successful"
   ]
  },
  {
   "cell_type": "code",
   "execution_count": 18,
   "metadata": {},
   "outputs": [
    {
     "data": {
      "text/html": [
       "<div>\n",
       "<style scoped>\n",
       "    .dataframe tbody tr th:only-of-type {\n",
       "        vertical-align: middle;\n",
       "    }\n",
       "\n",
       "    .dataframe tbody tr th {\n",
       "        vertical-align: top;\n",
       "    }\n",
       "\n",
       "    .dataframe thead th {\n",
       "        text-align: right;\n",
       "    }\n",
       "</style>\n",
       "<table border=\"1\" class=\"dataframe\">\n",
       "  <thead>\n",
       "    <tr style=\"text-align: right;\">\n",
       "      <th></th>\n",
       "      <th>studentnummer</th>\n",
       "      <th>inschrijfdatum</th>\n",
       "      <th>uitschrijfdatum</th>\n",
       "    </tr>\n",
       "  </thead>\n",
       "  <tbody>\n",
       "    <tr>\n",
       "      <th>1</th>\n",
       "      <td>r124589</td>\n",
       "      <td>10/05/2023</td>\n",
       "      <td>01/12/2022</td>\n",
       "    </tr>\n",
       "    <tr>\n",
       "      <th>3</th>\n",
       "      <td>r012345</td>\n",
       "      <td>11/09/2023</td>\n",
       "      <td>22/12/2023</td>\n",
       "    </tr>\n",
       "    <tr>\n",
       "      <th>6</th>\n",
       "      <td>r112345</td>\n",
       "      <td>21/09/2023</td>\n",
       "      <td>01/01/2024</td>\n",
       "    </tr>\n",
       "    <tr>\n",
       "      <th>7</th>\n",
       "      <td>r124589</td>\n",
       "      <td>10/08/2023</td>\n",
       "      <td>01/12/2023</td>\n",
       "    </tr>\n",
       "    <tr>\n",
       "      <th>8</th>\n",
       "      <td>r457899</td>\n",
       "      <td>10/10/2023</td>\n",
       "      <td>24/01/2024</td>\n",
       "    </tr>\n",
       "  </tbody>\n",
       "</table>\n",
       "</div>"
      ],
      "text/plain": [
       "  studentnummer inschrijfdatum uitschrijfdatum\n",
       "1       r124589     10/05/2023      01/12/2022\n",
       "3       r012345     11/09/2023      22/12/2023\n",
       "6       r112345     21/09/2023      01/01/2024\n",
       "7       r124589     10/08/2023      01/12/2023\n",
       "8       r457899     10/10/2023      24/01/2024"
      ]
     },
     "execution_count": 18,
     "metadata": {},
     "output_type": "execute_result"
    }
   ],
   "source": [
    "import re\n",
    "import numpy as np\n",
    "\n",
    "date_format = re.compile(r'^(0[1-9]|[12][0-9]|3[01])/(0[1-9]|1[0-2])/\\d{4}$')\n",
    "\n",
    "def check_date_format(value):\n",
    "    if date_format.match(str(value)):\n",
    "        return value\n",
    "    else:\n",
    "        return np.nan\n",
    "\n",
    "data['uitschrijfdatum'] = data['uitschrijfdatum'].apply(check_date_format)\n",
    "\n",
    "data = data.dropna()\n",
    "\n",
    "data.head()"
   ]
  },
  {
   "attachments": {},
   "cell_type": "markdown",
   "metadata": {},
   "source": [
    "Delete all rows with a non-valid date in the “enrollment date” column ."
   ]
  },
  {
   "cell_type": "code",
   "execution_count": 19,
   "metadata": {},
   "outputs": [
    {
     "data": {
      "text/html": [
       "<div>\n",
       "<style scoped>\n",
       "    .dataframe tbody tr th:only-of-type {\n",
       "        vertical-align: middle;\n",
       "    }\n",
       "\n",
       "    .dataframe tbody tr th {\n",
       "        vertical-align: top;\n",
       "    }\n",
       "\n",
       "    .dataframe thead th {\n",
       "        text-align: right;\n",
       "    }\n",
       "</style>\n",
       "<table border=\"1\" class=\"dataframe\">\n",
       "  <thead>\n",
       "    <tr style=\"text-align: right;\">\n",
       "      <th></th>\n",
       "      <th>studentnummer</th>\n",
       "      <th>inschrijfdatum</th>\n",
       "      <th>uitschrijfdatum</th>\n",
       "    </tr>\n",
       "  </thead>\n",
       "  <tbody>\n",
       "    <tr>\n",
       "      <th>1</th>\n",
       "      <td>r124589</td>\n",
       "      <td>10/05/2023</td>\n",
       "      <td>01/12/2022</td>\n",
       "    </tr>\n",
       "    <tr>\n",
       "      <th>3</th>\n",
       "      <td>r012345</td>\n",
       "      <td>11/09/2023</td>\n",
       "      <td>22/12/2023</td>\n",
       "    </tr>\n",
       "    <tr>\n",
       "      <th>6</th>\n",
       "      <td>r112345</td>\n",
       "      <td>21/09/2023</td>\n",
       "      <td>01/01/2024</td>\n",
       "    </tr>\n",
       "    <tr>\n",
       "      <th>7</th>\n",
       "      <td>r124589</td>\n",
       "      <td>10/08/2023</td>\n",
       "      <td>01/12/2023</td>\n",
       "    </tr>\n",
       "    <tr>\n",
       "      <th>8</th>\n",
       "      <td>r457899</td>\n",
       "      <td>10/10/2023</td>\n",
       "      <td>24/01/2024</td>\n",
       "    </tr>\n",
       "  </tbody>\n",
       "</table>\n",
       "</div>"
      ],
      "text/plain": [
       "  studentnummer inschrijfdatum uitschrijfdatum\n",
       "1       r124589     10/05/2023      01/12/2022\n",
       "3       r012345     11/09/2023      22/12/2023\n",
       "6       r112345     21/09/2023      01/01/2024\n",
       "7       r124589     10/08/2023      01/12/2023\n",
       "8       r457899     10/10/2023      24/01/2024"
      ]
     },
     "execution_count": 19,
     "metadata": {},
     "output_type": "execute_result"
    }
   ],
   "source": [
    "data['inschrijfdatum'] = data['inschrijfdatum'].apply(check_date_format)\n",
    "\n",
    "data = data.dropna()\n",
    "\n",
    "data.head()"
   ]
  },
  {
   "attachments": {},
   "cell_type": "markdown",
   "metadata": {},
   "source": [
    "Create a new column “number of days” that contains the number of days between entry and exit dates."
   ]
  },
  {
   "cell_type": "code",
   "execution_count": 26,
   "metadata": {},
   "outputs": [
    {
     "data": {
      "text/html": [
       "<div>\n",
       "<style scoped>\n",
       "    .dataframe tbody tr th:only-of-type {\n",
       "        vertical-align: middle;\n",
       "    }\n",
       "\n",
       "    .dataframe tbody tr th {\n",
       "        vertical-align: top;\n",
       "    }\n",
       "\n",
       "    .dataframe thead th {\n",
       "        text-align: right;\n",
       "    }\n",
       "</style>\n",
       "<table border=\"1\" class=\"dataframe\">\n",
       "  <thead>\n",
       "    <tr style=\"text-align: right;\">\n",
       "      <th></th>\n",
       "      <th>studentnummer</th>\n",
       "      <th>inschrijfdatum</th>\n",
       "      <th>uitschrijfdatum</th>\n",
       "      <th>number_of_dates</th>\n",
       "    </tr>\n",
       "  </thead>\n",
       "  <tbody>\n",
       "    <tr>\n",
       "      <th>1</th>\n",
       "      <td>r124589</td>\n",
       "      <td>2023-05-10</td>\n",
       "      <td>2022-12-01</td>\n",
       "      <td>-160</td>\n",
       "    </tr>\n",
       "    <tr>\n",
       "      <th>3</th>\n",
       "      <td>r012345</td>\n",
       "      <td>2023-09-11</td>\n",
       "      <td>2023-12-22</td>\n",
       "      <td>102</td>\n",
       "    </tr>\n",
       "    <tr>\n",
       "      <th>6</th>\n",
       "      <td>r112345</td>\n",
       "      <td>2023-09-21</td>\n",
       "      <td>2024-01-01</td>\n",
       "      <td>102</td>\n",
       "    </tr>\n",
       "    <tr>\n",
       "      <th>7</th>\n",
       "      <td>r124589</td>\n",
       "      <td>2023-08-10</td>\n",
       "      <td>2023-12-01</td>\n",
       "      <td>113</td>\n",
       "    </tr>\n",
       "    <tr>\n",
       "      <th>8</th>\n",
       "      <td>r457899</td>\n",
       "      <td>2023-10-10</td>\n",
       "      <td>2024-01-24</td>\n",
       "      <td>106</td>\n",
       "    </tr>\n",
       "  </tbody>\n",
       "</table>\n",
       "</div>"
      ],
      "text/plain": [
       "  studentnummer inschrijfdatum uitschrijfdatum  number_of_dates\n",
       "1       r124589     2023-05-10      2022-12-01             -160\n",
       "3       r012345     2023-09-11      2023-12-22              102\n",
       "6       r112345     2023-09-21      2024-01-01              102\n",
       "7       r124589     2023-08-10      2023-12-01              113\n",
       "8       r457899     2023-10-10      2024-01-24              106"
      ]
     },
     "execution_count": 26,
     "metadata": {},
     "output_type": "execute_result"
    }
   ],
   "source": [
    "data[\"inschrijfdatum\"] = pd.to_datetime(data['inschrijfdatum'], format='%d/%m/%Y')\n",
    "data['uitschrijfdatum'] = pd.to_datetime(data['uitschrijfdatum'], format='%d/%m/%Y')\n",
    "\n",
    "delta = data['uitschrijfdatum'] - data['inschrijfdatum']\n",
    "data['number_of_dates'] = delta.dt.days\n",
    "\n",
    "data.head()\n"
   ]
  },
  {
   "attachments": {},
   "cell_type": "markdown",
   "metadata": {},
   "source": [
    "Delete all rows for which the “number of days” column has a negative value."
   ]
  },
  {
   "cell_type": "code",
   "execution_count": 28,
   "metadata": {},
   "outputs": [
    {
     "data": {
      "text/html": [
       "<div>\n",
       "<style scoped>\n",
       "    .dataframe tbody tr th:only-of-type {\n",
       "        vertical-align: middle;\n",
       "    }\n",
       "\n",
       "    .dataframe tbody tr th {\n",
       "        vertical-align: top;\n",
       "    }\n",
       "\n",
       "    .dataframe thead th {\n",
       "        text-align: right;\n",
       "    }\n",
       "</style>\n",
       "<table border=\"1\" class=\"dataframe\">\n",
       "  <thead>\n",
       "    <tr style=\"text-align: right;\">\n",
       "      <th></th>\n",
       "      <th>studentnummer</th>\n",
       "      <th>inschrijfdatum</th>\n",
       "      <th>uitschrijfdatum</th>\n",
       "      <th>number_of_dates</th>\n",
       "    </tr>\n",
       "  </thead>\n",
       "  <tbody>\n",
       "    <tr>\n",
       "      <th>3</th>\n",
       "      <td>r012345</td>\n",
       "      <td>2023-09-11</td>\n",
       "      <td>2023-12-22</td>\n",
       "      <td>102.0</td>\n",
       "    </tr>\n",
       "    <tr>\n",
       "      <th>6</th>\n",
       "      <td>r112345</td>\n",
       "      <td>2023-09-21</td>\n",
       "      <td>2024-01-01</td>\n",
       "      <td>102.0</td>\n",
       "    </tr>\n",
       "    <tr>\n",
       "      <th>7</th>\n",
       "      <td>r124589</td>\n",
       "      <td>2023-08-10</td>\n",
       "      <td>2023-12-01</td>\n",
       "      <td>113.0</td>\n",
       "    </tr>\n",
       "    <tr>\n",
       "      <th>8</th>\n",
       "      <td>r457899</td>\n",
       "      <td>2023-10-10</td>\n",
       "      <td>2024-01-24</td>\n",
       "      <td>106.0</td>\n",
       "    </tr>\n",
       "    <tr>\n",
       "      <th>9</th>\n",
       "      <td>r012345</td>\n",
       "      <td>2023-09-11</td>\n",
       "      <td>2023-12-22</td>\n",
       "      <td>102.0</td>\n",
       "    </tr>\n",
       "  </tbody>\n",
       "</table>\n",
       "</div>"
      ],
      "text/plain": [
       "  studentnummer inschrijfdatum uitschrijfdatum  number_of_dates\n",
       "3       r012345     2023-09-11      2023-12-22            102.0\n",
       "6       r112345     2023-09-21      2024-01-01            102.0\n",
       "7       r124589     2023-08-10      2023-12-01            113.0\n",
       "8       r457899     2023-10-10      2024-01-24            106.0\n",
       "9       r012345     2023-09-11      2023-12-22            102.0"
      ]
     },
     "execution_count": 28,
     "metadata": {},
     "output_type": "execute_result"
    }
   ],
   "source": [
    "def valid_number_of_dates(value):\n",
    "    if value > 0:\n",
    "        return value\n",
    "    else:\n",
    "        return np.nan\n",
    "\n",
    "data['number_of_dates'] = data['number_of_dates'].apply(valid_number_of_dates)\n",
    "\n",
    "data = data.dropna()\n",
    "\n",
    "data.head()"
   ]
  },
  {
   "attachments": {},
   "cell_type": "markdown",
   "metadata": {},
   "source": [
    "Provide a visual overview in the form of a histogram of the number of students enrolled for the same number of days.\n",
    "Example: \n",
    "\n",
    "![output.png contains an image of the expected output. A histogram is shown with \"aantal dagen ingeschreven\" on the x-axis and \"aantal studenten\" on the y-axis.](output.png)"
   ]
  },
  {
   "cell_type": "code",
   "execution_count": null,
   "metadata": {},
   "outputs": [],
   "source": []
  }
 ],
 "metadata": {
  "kernelspec": {
   "display_name": "Python 3",
   "language": "python",
   "name": "python3"
  },
  "language_info": {
   "codemirror_mode": {
    "name": "ipython",
    "version": 3
   },
   "file_extension": ".py",
   "mimetype": "text/x-python",
   "name": "python",
   "nbconvert_exporter": "python",
   "pygments_lexer": "ipython3",
   "version": "3.12.0"
  },
  "orig_nbformat": 4
 },
 "nbformat": 4,
 "nbformat_minor": 2
}
